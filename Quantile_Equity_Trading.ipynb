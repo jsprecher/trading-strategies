{
 "cells": [
  {
   "cell_type": "markdown",
   "id": "d36d9856",
   "metadata": {},
   "source": [
    "# Quantile Trading Strategy of Energy Stocks"
   ]
  },
  {
   "cell_type": "code",
   "execution_count": 1,
   "id": "31a6790e",
   "metadata": {},
   "outputs": [
    {
     "name": "stderr",
     "output_type": "stream",
     "text": [
      "-- \u001b[1mAttaching packages\u001b[22m --------------------------------------- tidyverse 1.3.1 --\n",
      "\n",
      "\u001b[32mv\u001b[39m \u001b[34mggplot2\u001b[39m 3.3.5     \u001b[32mv\u001b[39m \u001b[34mpurrr  \u001b[39m 0.3.4\n",
      "\u001b[32mv\u001b[39m \u001b[34mtibble \u001b[39m 3.1.4     \u001b[32mv\u001b[39m \u001b[34mdplyr  \u001b[39m 1.0.7\n",
      "\u001b[32mv\u001b[39m \u001b[34mtidyr  \u001b[39m 1.1.3     \u001b[32mv\u001b[39m \u001b[34mstringr\u001b[39m 1.4.0\n",
      "\u001b[32mv\u001b[39m \u001b[34mreadr  \u001b[39m 2.0.1     \u001b[32mv\u001b[39m \u001b[34mforcats\u001b[39m 0.5.1\n",
      "\n",
      "-- \u001b[1mConflicts\u001b[22m ------------------------------------------ tidyverse_conflicts() --\n",
      "\u001b[31mx\u001b[39m \u001b[34mdplyr\u001b[39m::\u001b[32mfilter()\u001b[39m masks \u001b[34mstats\u001b[39m::filter()\n",
      "\u001b[31mx\u001b[39m \u001b[34mdplyr\u001b[39m::\u001b[32mlag()\u001b[39m    masks \u001b[34mstats\u001b[39m::lag()\n",
      "\n",
      "Loading required package: xts\n",
      "\n",
      "Loading required package: zoo\n",
      "\n",
      "\n",
      "Attaching package: 'zoo'\n",
      "\n",
      "\n",
      "The following objects are masked from 'package:base':\n",
      "\n",
      "    as.Date, as.Date.numeric\n",
      "\n",
      "\n",
      "\n",
      "Attaching package: 'xts'\n",
      "\n",
      "\n",
      "The following objects are masked from 'package:dplyr':\n",
      "\n",
      "    first, last\n",
      "\n",
      "\n",
      "\n",
      "Attaching package: 'PerformanceAnalytics'\n",
      "\n",
      "\n",
      "The following object is masked from 'package:graphics':\n",
      "\n",
      "    legend\n",
      "\n",
      "\n",
      "\n",
      "Attaching package: 'lubridate'\n",
      "\n",
      "\n",
      "The following objects are masked from 'package:base':\n",
      "\n",
      "    date, intersect, setdiff, union\n",
      "\n",
      "\n"
     ]
    }
   ],
   "source": [
    "library(tidyverse)\n",
    "library(Quandl)\n",
    "library(PerformanceAnalytics)\n",
    "library(lubridate)\n",
    "library(knitr)\n",
    "\n",
    "fig <- function(width, heigth){\n",
    " options(repr.plot.width = width, repr.plot.height = heigth)\n",
    " }"
   ]
  },
  {
   "cell_type": "code",
   "execution_count": 2,
   "id": "da4afde6",
   "metadata": {},
   "outputs": [],
   "source": [
    "funding_rate <- 0.02\n",
    "repo_rate <- funding_rate- .01\n",
    "weekly_repo_rate <- repo_rate*(1/52)\n",
    "\n",
    "initial_k = 10000000"
   ]
  },
  {
   "cell_type": "markdown",
   "id": "58e52e32",
   "metadata": {},
   "source": [
    "For this assignment, I am constructing a quantile trading strategy focusing on the energy and basic materials sectors that will rebalance weekly. Here is my selection criteria:\n",
    "\n",
    "* end-of-day adjusted closing prices are available , over the entire period Jan 2014 through Jan 2021\n",
    "* debt/market cap ratio is greater than 0.1 somewhere in the period Jan 2014 through Jan 2021 (preferably more than fleetingly)\n",
    "* not in the automotive, financial or insurance sector , over the entire period Jan 2014 through Jan 2021\n",
    "* has feasible calculation of the ratios specified below , over the entire period Jan 2014 through Jan 2021,\n",
    "* Did not have a share price below $0.5 at any point in the period\n",
    "* Had a market cap greater than 50 million for the entire period\n",
    "* Is in the energy, basic materials, or industrial materials sector\n",
    "\n",
    "For factors, I will look at:\n",
    "* debt to market cap\n",
    "* Return on Investment\n",
    "* Price to Earnings\n",
    "* Price to Earnings Adjusted Return on Investment\n",
    " \n",
    "I am defining Price to Earnings Adjusted Return on Investment as $\\frac{Return~on~Investment}{Price~to~Earnings}$\n",
    "\n",
    "For Strategies, I will test:\n",
    "* going long the top decile of scores and short the bottom decile of scores with equal weights\n",
    "* going long the top decile of score changes and short the bottom decile of score changes with equal weights\n",
    "* going long the top decile of scores and short the bottom decile of scores with the top/bottom 5% recieving 4% positions and the 5%-10% range recieving 1% positions"
   ]
  },
  {
   "cell_type": "markdown",
   "id": "21870a33",
   "metadata": {},
   "source": [
    "### data processing"
   ]
  },
  {
   "cell_type": "code",
   "execution_count": 3,
   "id": "30a08027",
   "metadata": {},
   "outputs": [
    {
     "name": "stderr",
     "output_type": "stream",
     "text": [
      "\u001b[1m\u001b[1mRows: \u001b[1m\u001b[22m\u001b[34m\u001b[34m37285\u001b[34m\u001b[39m \u001b[1m\u001b[1mColumns: \u001b[1m\u001b[22m\u001b[34m\u001b[34m27\u001b[34m\u001b[39m\n",
      "\n",
      "\u001b[36m--\u001b[39m \u001b[1m\u001b[1mColumn specification\u001b[1m\u001b[22m \u001b[36m--------------------------------------------------------\u001b[39m\n",
      "\u001b[1mDelimiter:\u001b[22m \",\"\n",
      "\u001b[31mchr\u001b[39m (19): m_ticker, ticker, comp_name, comp_name_2, exchange, currency_code,...\n",
      "\u001b[32mdbl\u001b[39m  (8): sic_4_code, zacks_x_ind_code, zacks_x_sector_code, zacks_m_ind_cod...\n",
      "\n",
      "\n",
      "\u001b[36mi\u001b[39m Use \u001b[30m\u001b[47m\u001b[30m\u001b[47m`spec()`\u001b[47m\u001b[30m\u001b[49m\u001b[39m to retrieve the full column specification for this data.\n",
      "\u001b[36mi\u001b[39m Specify the column types or set \u001b[30m\u001b[47m\u001b[30m\u001b[47m`show_col_types = FALSE`\u001b[47m\u001b[30m\u001b[49m\u001b[39m to quiet this message.\n",
      "\n",
      "\u001b[1m\u001b[1mRows: \u001b[1m\u001b[22m\u001b[34m\u001b[34m414645\u001b[34m\u001b[39m \u001b[1m\u001b[1mColumns: \u001b[1m\u001b[22m\u001b[34m\u001b[34m9\u001b[34m\u001b[39m\n",
      "\n",
      "\u001b[36m--\u001b[39m \u001b[1m\u001b[1mColumn specification\u001b[1m\u001b[22m \u001b[36m--------------------------------------------------------\u001b[39m\n",
      "\u001b[1mDelimiter:\u001b[22m \",\"\n",
      "\u001b[31mchr\u001b[39m  (5): ticker, m_ticker, comp_name, per_type, active_ticker_flag\n",
      "\u001b[32mdbl\u001b[39m  (3): fye, mkt_val, ep_val\n",
      "\u001b[34mdate\u001b[39m (1): per_end_date\n",
      "\n",
      "\n",
      "\u001b[36mi\u001b[39m Use \u001b[30m\u001b[47m\u001b[30m\u001b[47m`spec()`\u001b[47m\u001b[30m\u001b[49m\u001b[39m to retrieve the full column specification for this data.\n",
      "\u001b[36mi\u001b[39m Specify the column types or set \u001b[30m\u001b[47m\u001b[30m\u001b[47m`show_col_types = FALSE`\u001b[47m\u001b[30m\u001b[49m\u001b[39m to quiet this message.\n",
      "\n",
      "Warning message:\n",
      "\"One or more parsing issues, see `problems()` for details\"\n",
      "\u001b[1m\u001b[1mRows: \u001b[1m\u001b[22m\u001b[34m\u001b[34m575632\u001b[34m\u001b[39m \u001b[1m\u001b[1mColumns: \u001b[1m\u001b[22m\u001b[34m\u001b[34m249\u001b[34m\u001b[39m\n",
      "\n",
      "\u001b[36m--\u001b[39m \u001b[1m\u001b[1mColumn specification\u001b[1m\u001b[22m \u001b[36m--------------------------------------------------------\u001b[39m\n",
      "\u001b[1mDelimiter:\u001b[22m \",\"\n",
      "\u001b[31mchr\u001b[39m   (39): m_ticker, ticker, comp_name, comp_name_2, exchange, currency_cod...\n",
      "\u001b[32mdbl\u001b[39m  (200): per_fisc_year, per_fisc_qtr, per_cal_year, per_cal_qtr, qtr_nbr,...\n",
      "\u001b[33mlgl\u001b[39m    (3): per_code, rental_income, exord_income_loss\n",
      "\u001b[34mdate\u001b[39m   (7): per_end_date, filing_date, last_changed_date, shares_out_date, r...\n",
      "\n",
      "\n",
      "\u001b[36mi\u001b[39m Use \u001b[30m\u001b[47m\u001b[30m\u001b[47m`spec()`\u001b[47m\u001b[30m\u001b[49m\u001b[39m to retrieve the full column specification for this data.\n",
      "\u001b[36mi\u001b[39m Specify the column types or set \u001b[30m\u001b[47m\u001b[30m\u001b[47m`show_col_types = FALSE`\u001b[47m\u001b[30m\u001b[49m\u001b[39m to quiet this message.\n",
      "\n",
      "\u001b[1m\u001b[1mRows: \u001b[1m\u001b[22m\u001b[34m\u001b[34m575632\u001b[34m\u001b[39m \u001b[1m\u001b[1mColumns: \u001b[1m\u001b[22m\u001b[34m\u001b[34m40\u001b[34m\u001b[39m\n",
      "\n",
      "\u001b[36m--\u001b[39m \u001b[1m\u001b[1mColumn specification\u001b[1m\u001b[22m \u001b[36m--------------------------------------------------------\u001b[39m\n",
      "\u001b[1mDelimiter:\u001b[22m \",\"\n",
      "\u001b[31mchr\u001b[39m   (7): m_ticker, ticker, comp_name, comp_name_2, exchange, currency_code...\n",
      "\u001b[32mdbl\u001b[39m  (31): per_fisc_year, per_fisc_qtr, per_cal_year, per_cal_qtr, form_7_ty...\n",
      "\u001b[33mlgl\u001b[39m   (1): per_code\n",
      "\u001b[34mdate\u001b[39m  (1): per_end_date\n",
      "\n",
      "\n",
      "\u001b[36mi\u001b[39m Use \u001b[30m\u001b[47m\u001b[30m\u001b[47m`spec()`\u001b[47m\u001b[30m\u001b[49m\u001b[39m to retrieve the full column specification for this data.\n",
      "\u001b[36mi\u001b[39m Specify the column types or set \u001b[30m\u001b[47m\u001b[30m\u001b[47m`show_col_types = FALSE`\u001b[47m\u001b[30m\u001b[49m\u001b[39m to quiet this message.\n",
      "\n",
      "\u001b[1m\u001b[1mRows: \u001b[1m\u001b[22m\u001b[34m\u001b[34m468837\u001b[34m\u001b[39m \u001b[1m\u001b[1mColumns: \u001b[1m\u001b[22m\u001b[34m\u001b[34m9\u001b[34m\u001b[39m\n",
      "\n",
      "\u001b[36m--\u001b[39m \u001b[1m\u001b[1mColumn specification\u001b[1m\u001b[22m \u001b[36m--------------------------------------------------------\u001b[39m\n",
      "\u001b[1mDelimiter:\u001b[22m \",\"\n",
      "\u001b[31mchr\u001b[39m  (5): ticker, m_ticker, comp_name, per_type, active_ticker_flag\n",
      "\u001b[32mdbl\u001b[39m  (3): fye, shares_out, avg_d_shares\n",
      "\u001b[34mdate\u001b[39m (1): per_end_date\n",
      "\n",
      "\n",
      "\u001b[36mi\u001b[39m Use \u001b[30m\u001b[47m\u001b[30m\u001b[47m`spec()`\u001b[47m\u001b[30m\u001b[49m\u001b[39m to retrieve the full column specification for this data.\n",
      "\u001b[36mi\u001b[39m Specify the column types or set \u001b[30m\u001b[47m\u001b[30m\u001b[47m`show_col_types = FALSE`\u001b[47m\u001b[30m\u001b[49m\u001b[39m to quiet this message.\n",
      "\n"
     ]
    }
   ],
   "source": [
    "MT <- read_csv('ZACKS_MT.csv')\n",
    "\n",
    "US_tickers <- MT %>% filter(country_code == 'US') %>% pull(m_ticker)\n",
    "\n",
    "MKTV <- read_csv('ZACKS_MKTV.csv') %>%\n",
    "  select(m_ticker, per_type, per_end_date, mkt_val) %>%\n",
    "  filter(m_ticker %in% US_tickers)\n",
    "\n",
    "FC <- read_csv('ZACKS_FC.csv') %>%\n",
    "  filter(m_ticker %in% US_tickers)\n",
    "\n",
    "FR <- read_csv('ZACKS_FR.csv') %>%\n",
    "  filter(m_ticker %in% US_tickers)\n",
    "\n",
    "SHRS <- read_csv('ZACKS_SHRS.csv') %>%\n",
    "  select(m_ticker, ticker, per_type,per_end_date, shares_out) %>%\n",
    "  filter(m_ticker %in% US_tickers)\n",
    "\n",
    "fundamentals_quarterly <- FC %>% \n",
    "  full_join(FR, by = colnames(FC)[colnames(FC) %in% colnames(FR)]) %>%\n",
    "  filter(per_type=='Q') %>%\n",
    "  filter(currency_code=='USD') %>%\n",
    "  filter(per_end_date >= as.Date('2011-12-31')) %>%\n",
    "  filter(per_end_date < as.Date('2021-12-31')) %>%\n",
    "  left_join(SHRS, by = colnames(FC)[colnames(FC) %in% colnames(SHRS)]) %>% \n",
    "  left_join(MKTV,by = colnames(FC)[colnames(FC) %in% colnames(MKTV)]) %>% \n",
    "  select(m_ticker, per_end_date, filing_date, per_fisc_year, per_fisc_qtr, per_cal_year, \n",
    "         per_cal_qtr, tot_debt_tot_equity, ret_invst, free_cash_flow_per_share, net_lterm_debt, tot_lterm_debt, eps_diluted_net, basic_net_eps, shares_out, mkt_val)  \n",
    "\n",
    "fundamentals_annual <- FC %>% \n",
    "  full_join(FR, by = colnames(FC)[colnames(FC) %in% colnames(FR)]) %>%\n",
    "  filter(per_type=='A') %>%\n",
    "  filter(currency_code=='USD') %>%\n",
    "  filter(per_end_date >= as.Date('2011-12-31')) %>%\n",
    "  filter(per_end_date < as.Date('2021-12-31')) %>%\n",
    "  left_join(SHRS, by = colnames(FC)[colnames(FC) %in% colnames(SHRS)]) %>% \n",
    "  left_join(MKTV,by = colnames(FC)[colnames(FC) %in% colnames(MKTV)]) %>% \n",
    "  select(m_ticker, per_end_date, filing_date, per_fisc_year, per_fisc_qtr, per_cal_year, \n",
    "         per_cal_qtr, tot_debt_tot_equity, ret_invst, free_cash_flow_per_share, net_lterm_debt, tot_lterm_debt, eps_diluted_net, basic_net_eps, shares_out, mkt_val)\n",
    "\n",
    "annual_long <- fundamentals_annual %>% \n",
    "  pivot_longer(-c(m_ticker, per_end_date, filing_date, per_fisc_year, per_fisc_qtr, per_cal_year, per_cal_qtr), names_to = 'field', values_to = 'A')\n",
    "\n",
    "# bind together annual and quarterly data to find data to use\n",
    "quarterly_long <- fundamentals_quarterly %>% \n",
    "  pivot_longer(-c(m_ticker, per_end_date, filing_date, per_fisc_year, per_fisc_qtr, per_cal_year, per_cal_qtr), names_to = 'field', values_to = 'Q')\n",
    "\n",
    "quarterly_and_annual_fundamentals <- quarterly_long %>%\n",
    "  left_join(annual_long,by=c('m_ticker', 'per_end_date', 'filing_date', 'per_fisc_year', 'per_fisc_qtr', 'per_cal_year', 'per_cal_qtr', 'field')) %>%\n",
    "  mutate(value_to_use = ifelse(!is.na(Q),Q,ifelse(!is.na(A),A,NA))) \n",
    "\n",
    "usable_data <- quarterly_and_annual_fundamentals %>%\n",
    "  select(-c(Q,A)) %>%\n",
    "  pivot_wider(names_from = field, values_from = value_to_use) %>%\n",
    "  mutate(debt_to_use = ifelse(is.na(net_lterm_debt),ifelse(is.na(tot_lterm_debt),0,tot_lterm_debt),net_lterm_debt),\n",
    "         eps_to_use = ifelse(!is.na(eps_diluted_net),eps_diluted_net, ifelse(!is.na(basic_net_eps),basic_net_eps,NA)),\n",
    "         eps_to_use = ifelse(eps_to_use <= 0,0.001,eps_to_use),\n",
    "         tot_debt = tot_debt_tot_equity*mkt_val,\n",
    "         tot_debt = replace_na(tot_debt,0))\n",
    "\n",
    "\n",
    "fundamental_data <- usable_data %>%\n",
    "  left_join(MT %>% select(m_ticker,zacks_x_ind_code, zacks_x_sector_code, zacks_m_ind_code),by='m_ticker') %>%\n",
    "  filter(per_end_date >= as.Date('2011-12-31')) %>%\n",
    "  select(-c(per_fisc_qtr,per_fisc_year, per_cal_qtr, per_cal_year))"
   ]
  },
  {
   "cell_type": "code",
   "execution_count": 4,
   "id": "ab0e4805",
   "metadata": {
    "scrolled": false
   },
   "outputs": [
    {
     "name": "stderr",
     "output_type": "stream",
     "text": [
      "\u001b[1m\u001b[1mRows: \u001b[1m\u001b[22m\u001b[34m\u001b[34m41229165\u001b[34m\u001b[39m \u001b[1m\u001b[1mColumns: \u001b[1m\u001b[22m\u001b[34m\u001b[34m14\u001b[34m\u001b[39m\n",
      "\n",
      "\u001b[36m--\u001b[39m \u001b[1m\u001b[1mColumn specification\u001b[1m\u001b[22m \u001b[36m--------------------------------------------------------\u001b[39m\n",
      "\u001b[1mDelimiter:\u001b[22m \",\"\n",
      "\u001b[31mchr\u001b[39m   (1): ticker\n",
      "\u001b[32mdbl\u001b[39m  (12): open, high, low, close, volume, dividend, split, adj_open, adj_hi...\n",
      "\u001b[34mdate\u001b[39m  (1): date\n",
      "\n",
      "\n",
      "\u001b[36mi\u001b[39m Use \u001b[30m\u001b[47m\u001b[30m\u001b[47m`spec()`\u001b[47m\u001b[30m\u001b[49m\u001b[39m to retrieve the full column specification for this data.\n",
      "\u001b[36mi\u001b[39m Specify the column types or set \u001b[30m\u001b[47m\u001b[30m\u001b[47m`show_col_types = FALSE`\u001b[47m\u001b[30m\u001b[49m\u001b[39m to quiet this message.\n",
      "\n"
     ]
    }
   ],
   "source": [
    "\n",
    "prices <- read_csv('QUOTEMEDIA_PRICES.csv') %>% filter(ticker %in% SHRS$ticker)\n",
    "\n",
    "share_count <- SHRS %>% \n",
    "  select(m_ticker, ticker, per_end_date,shares_out)\n",
    "\n",
    "daily_tickers <- expand.grid(date = seq(as.Date('2011-12-31'),as.Date('2021-12-31'),1),\n",
    "                             m_ticker = unique(share_count$m_ticker))\n",
    "\n",
    "daily_shares <- daily_tickers %>%\n",
    "  left_join(share_count,by=c('date'='per_end_date','m_ticker')) %>%\n",
    "  group_by(m_ticker) %>% \n",
    "  mutate(ticker = na.locf(ticker, na.rm = F),\n",
    "         shares_out = na.locf(shares_out, na.rm = F)) %>% \n",
    "  filter(date >=as.Date('2012-12-31')) %>%\n",
    "  select(date, m_ticker, ticker, shares_out) %>%\n",
    "  drop_na() \n",
    "\n",
    "daily_shares_and_prices <- daily_shares %>%\n",
    "  left_join(prices,by=c('date','ticker')) %>%\n",
    "  select(date,m_ticker,ticker,shares_out,close,adj_close) %>%\n",
    "  arrange(date) %>%\n",
    "  group_by(m_ticker) %>%\n",
    "  mutate(adj_close = na.locf(adj_close,na.rm = F)) %>%\n",
    "  ungroup() %>%\n",
    "  select(date, m_ticker, ticker, adj_close) %>%\n",
    "  drop_na()\n",
    "\n",
    "\n",
    "all_data <- daily_shares_and_prices %>%\n",
    "  full_join(fundamental_data %>% mutate(filing_date = filing_date+1), by=c('date'='filing_date','m_ticker')) %>%\n",
    "  left_join(daily_shares_and_prices %>% select(date,m_ticker, adj_close) %>% rename(mv_adj_close = adj_close), by=c('m_ticker','per_end_date'='date')) %>%\n",
    "  group_by(m_ticker) %>%\n",
    "  arrange(date) %>%\n",
    "  fill(c(mkt_val,tot_debt,ret_invst,eps_to_use,mv_adj_close, debt_to_use, zacks_x_sector_code, zacks_x_ind_code),.direction = 'down') %>%\n",
    "  mutate(operating_income = ret_invst*(mkt_val+debt_to_use),\n",
    "         mv_adjusted = (adj_close/mv_adj_close)*mkt_val,\n",
    "         Return_On_Inv = operating_income/(mv_adjusted+debt_to_use),\n",
    "         Debt_To_Mkt_Cap = tot_debt/mv_adjusted,\n",
    "         Price_To_Earnings = (adj_close)/eps_to_use) %>%\n",
    "  ungroup() %>%\n",
    "  filter(date %in% prices$date) # filter back for business days\n",
    "\n",
    "factor_data <- all_data %>%\n",
    "  select(date, m_ticker, ticker, adj_close, Return_On_Inv, Debt_To_Mkt_Cap, Price_To_Earnings, mkt_val)"
   ]
  },
  {
   "cell_type": "code",
   "execution_count": 5,
   "id": "f0724d2e",
   "metadata": {},
   "outputs": [
    {
     "name": "stderr",
     "output_type": "stream",
     "text": [
      "\u001b[1m\u001b[1mRows: \u001b[1m\u001b[22m\u001b[34m\u001b[34m30\u001b[34m\u001b[39m \u001b[1m\u001b[1mColumns: \u001b[1m\u001b[22m\u001b[34m\u001b[34m4\u001b[34m\u001b[39m\n",
      "\n",
      "\u001b[36m--\u001b[39m \u001b[1m\u001b[1mColumn specification\u001b[1m\u001b[22m \u001b[36m--------------------------------------------------------\u001b[39m\n",
      "\u001b[1mDelimiter:\u001b[22m \" \"\n",
      "\u001b[32mdbl\u001b[39m  (3): Debt_To_Mkt_Cap, Return_On_Inv, Price_To_Earnings\n",
      "\u001b[34mdate\u001b[39m (1): Date\n",
      "\n",
      "\n",
      "\u001b[36mi\u001b[39m Use \u001b[30m\u001b[47m\u001b[30m\u001b[47m`spec()`\u001b[47m\u001b[30m\u001b[49m\u001b[39m to retrieve the full column specification for this data.\n",
      "\u001b[36mi\u001b[39m Specify the column types or set \u001b[30m\u001b[47m\u001b[30m\u001b[47m`show_col_types = FALSE`\u001b[47m\u001b[30m\u001b[49m\u001b[39m to quiet this message.\n",
      "\n"
     ]
    },
    {
     "name": "stdout",
     "output_type": "stream",
     "text": [
      "[1] \"Everything matches up.\"\n"
     ]
    }
   ],
   "source": [
    "LLY <- factor_data %>% \n",
    "  filter(m_ticker == 'LLY')\n",
    "\n",
    "data_check <- read_delim('data_check.txt', col_names = c('Date','Debt_To_Mkt_Cap','Return_On_Inv','Price_To_Earnings')) %>%\n",
    "  mutate_if(is.numeric, round, 4)\n",
    "\n",
    "LLY_compare <- LLY %>%\n",
    "  select(date,Debt_To_Mkt_Cap,Return_On_Inv,Price_To_Earnings) %>%\n",
    "  filter(date %in% data_check$Date) %>%\n",
    "  mutate_if(is.numeric,round, 4)\n",
    "\n",
    "if(sum(!data_check == LLY_compare)==0){\n",
    "  print('Everything matches up.')\n",
    "} else {\n",
    "  print('this is not right.')\n",
    "}"
   ]
  },
  {
   "cell_type": "code",
   "execution_count": 6,
   "id": "de75d87a",
   "metadata": {},
   "outputs": [],
   "source": [
    "factors_usa <- factor_data  %>%\n",
    "  filter((date > as.Date('2013-12-31'))&(date <= as.Date('2021-01-31'))) %>% \n",
    "  left_join(MT %>% select(m_ticker, zacks_x_sector_code, zacks_x_ind_code, country_code), by='m_ticker') %>%\n",
    "  filter(country_code == 'US') %>%\n",
    "  filter(!zacks_x_ind_code %in% c(5,13))\n",
    "\n",
    "\n",
    "tickers_with_data <- factors_usa %>% \n",
    "  group_by(m_ticker) %>%\n",
    "  summarize(debt_to_mc_nas = sum(is.na(Debt_To_Mkt_Cap)),\n",
    "            ROI_nas = sum(is.na(Return_On_Inv)),\n",
    "            Price_To_Earnings_nas = sum(is.na(Price_To_Earnings)),\n",
    "            total_nas = debt_to_mc_nas + ROI_nas + Price_To_Earnings_nas) %>%\n",
    "  filter(total_nas == 0) %>%\n",
    "  pull(m_ticker)\n",
    "\n",
    "matching_criteria <- factors_usa %>%\n",
    "  filter(m_ticker %in% tickers_with_data) %>%\n",
    "  group_by(m_ticker) %>%\n",
    "  filter(max(Debt_To_Mkt_Cap)>0.1) %>%\n",
    "  ungroup()"
   ]
  },
  {
   "cell_type": "code",
   "execution_count": 7,
   "id": "958470a7",
   "metadata": {},
   "outputs": [],
   "source": [
    "m_tickers_to_use <- matching_criteria %>% \n",
    "  filter(zacks_x_sector_code %in% c(6,7,12)) %>%\n",
    "  group_by(m_ticker) %>%\n",
    "  mutate(min_mv = min(mkt_val,na.rm = T),\n",
    "         min_adj_close = min(adj_close,na.rm = T)) %>% # energy, industrial products, basic materials\n",
    "  ungroup() %>% \n",
    "  filter((min_mv > 50) & (min_adj_close > 0.5)) %>% # remove the micro cap companies\n",
    "  arrange(desc(zacks_x_sector_code)) %>%\n",
    "  select(m_ticker) %>% \n",
    "  distinct() %>%\n",
    "  head(200) %>%\n",
    "  pull(m_ticker)\n",
    "\n",
    "weekly_data <- matching_criteria %>%\n",
    "  filter(m_ticker %in% m_tickers_to_use) %>%\n",
    "  group_by(year(date),week(date)) %>%\n",
    "  filter(date == max(date)) %>% \n",
    "  ungroup() %>% \n",
    "  select(date,m_ticker, ticker, adj_close, Return_On_Inv, Debt_To_Mkt_Cap, Price_To_Earnings) %>%\n",
    "  mutate(PtE_adj_ROI = Return_On_Inv/Price_To_Earnings) %>%\n",
    "  group_by(m_ticker) %>%\n",
    "  arrange(date) %>%\n",
    "  mutate(end_date = lead(date,1),\n",
    "         end_price = lead(adj_close,1)) %>%\n",
    "  ungroup()"
   ]
  },
  {
   "cell_type": "markdown",
   "id": "b31bbbe6",
   "metadata": {},
   "source": [
    "### Factor Scores"
   ]
  },
  {
   "cell_type": "code",
   "execution_count": 8,
   "id": "158dc31c",
   "metadata": {},
   "outputs": [],
   "source": [
    "calc_p_l <- function(weights_and_returns, rebalance_dates, initial_capital){\n",
    "    \n",
    "    k <- initial_k\n",
    "\n",
    "    position_data <- tibble()\n",
    "\n",
    "    for(rebalance_date in rebalance_dates){\n",
    "\n",
    "      current_week_data <- weights_and_returns %>%\n",
    "        filter(date == rebalance_date) %>%\n",
    "        mutate(position_mv = (k/10)*weight,\n",
    "               position_end_mv = position_mv*(end_price/adj_close),\n",
    "               repo = position_mv*weekly_repo_rate,\n",
    "               P_and_L = ifelse(long,position_end_mv-position_mv,position_mv-position_end_mv+repo))\n",
    "\n",
    "      position_data <- position_data %>% bind_rows(current_week_data)\n",
    "\n",
    "      P_L <- sum(current_week_data$P_and_L)\n",
    "\n",
    "      k = k+P_L\n",
    "\n",
    "    }\n",
    "    \n",
    "    return(position_data)\n",
    "}"
   ]
  },
  {
   "cell_type": "code",
   "execution_count": 9,
   "id": "912c7de1",
   "metadata": {},
   "outputs": [],
   "source": [
    "#################################################################################################################################\n",
    "# Factor level strategy \n",
    "\n",
    "factor_zscores <- weekly_data %>%\n",
    "  group_by(date) %>%\n",
    "  mutate(ROI_zscore = scale(Return_On_Inv)[,1], # we want higher ROI\n",
    "         Leverage_zscore = scale(-Debt_To_Mkt_Cap)[,1], # less financial leverage\n",
    "         PtE_zscore = scale(-Price_To_Earnings)[,1], # we want this to be low\n",
    "         PtE_adj_ROI_zscore = scale(PtE_adj_ROI)[,1], # we want this to be high\n",
    "         score = ROI_zscore + Leverage_zscore + PtE_zscore + PtE_adj_ROI_zscore) %>%\n",
    "  ungroup() \n",
    "\n",
    "positions <- factor_zscores %>%\n",
    "  group_by(date) %>%\n",
    "  mutate(long = score > quantile(score,0.9),\n",
    "         short = score < quantile(score,0.1)) %>%\n",
    "  filter(long|short) %>% \n",
    "  mutate(weight = 1/n()) %>%\n",
    "  ungroup()\n",
    "\n",
    "position_weights <- positions %>% \n",
    "  select(date, end_date, ticker, adj_close, end_price, long, short, weight)\n",
    "\n",
    "position_weights_and_returns <- position_weights %>% \n",
    "  mutate(pct_return = end_price/adj_close-1)"
   ]
  },
  {
   "cell_type": "code",
   "execution_count": 10,
   "id": "7becafcf",
   "metadata": {},
   "outputs": [],
   "source": [
    "sized_positions <- factor_zscores %>%\n",
    "  group_by(date) %>%\n",
    "  mutate(long = score > quantile(score,0.9),\n",
    "         top_5_pct = score > quantile(score,0.95),\n",
    "         short = score < quantile(score,0.1),\n",
    "         bottom_5_pct = score < quantile(score,0.05)) %>%\n",
    "  filter(long|short) %>% \n",
    "  mutate(weight = ifelse(top_5_pct|bottom_5_pct,.04,.01)) %>% # if top 5 % or bottom 5% weight is .04, else .01\n",
    "  ungroup()\n",
    "\n",
    "sized_position_weights <- sized_positions %>% \n",
    "  select(date, end_date, ticker, adj_close, end_price, long, short, weight)\n",
    "\n",
    "sized_position_weights_and_returns <- sized_position_weights %>% \n",
    "  mutate(pct_return = end_price/adj_close-1)"
   ]
  },
  {
   "cell_type": "code",
   "execution_count": 11,
   "id": "f3fafe1e",
   "metadata": {},
   "outputs": [],
   "source": [
    "###########################################################################################################################\n",
    "# Rank on Changes\n",
    "\n",
    "weekly_factor_chg <- weekly_data %>% \n",
    "  group_by(m_ticker) %>% \n",
    "  mutate(Return_On_Inv_Chg = Return_On_Inv-lag(Return_On_Inv,1),\n",
    "         Debt_To_Mkt_Cap_Chg = Debt_To_Mkt_Cap-lag(Debt_To_Mkt_Cap,1),\n",
    "         Price_To_Earnings_Chg = Price_To_Earnings-lag(Price_To_Earnings,1),\n",
    "         PtE_adj_ROI_Chg = PtE_adj_ROI-lag(PtE_adj_ROI,1)) %>%\n",
    "  ungroup() %>%\n",
    "  drop_na()\n",
    "\n",
    "factor_chgs_zscores <- weekly_factor_chg %>%\n",
    "  group_by(date) %>%\n",
    "  mutate(ROI_chg_zscore = scale(Return_On_Inv_Chg)[,1], # we want higher ROI\n",
    "         Leverage_chg_zscore = scale(-Debt_To_Mkt_Cap_Chg)[,1], # less financial leverage\n",
    "         PtE_chg_zscore = scale(-Price_To_Earnings_Chg)[,1], # we want this to be low\n",
    "         PtE_adj_ROI_chg_zscore = scale(PtE_adj_ROI_Chg)[,1], # we want this to be high\n",
    "         score = ROI_chg_zscore + Leverage_chg_zscore + PtE_chg_zscore + PtE_adj_ROI_chg_zscore) %>%\n",
    "  ungroup() %>%\n",
    "  drop_na()\n",
    " \n",
    "chg_positions <- factor_chgs_zscores %>%\n",
    "  group_by(date) %>%\n",
    "  mutate(long = score > quantile(score,0.9),\n",
    "         short = score < quantile(score,0.1)) %>%\n",
    "  filter(long|short) %>% \n",
    "  mutate(weight = 1/n()) %>%\n",
    "  ungroup()\n",
    "\n",
    "chg_position_weights <- chg_positions %>% \n",
    "  select(date, end_date, ticker, adj_close, end_price, long, short, weight)\n",
    "\n",
    "chg_position_weights_and_returns <- chg_position_weights %>% \n",
    "  mutate(pct_return = end_price/adj_close-1)"
   ]
  },
  {
   "cell_type": "markdown",
   "id": "82e56f92",
   "metadata": {},
   "source": [
    "### Backtest"
   ]
  },
  {
   "cell_type": "code",
   "execution_count": 12,
   "id": "2258a2f1",
   "metadata": {},
   "outputs": [],
   "source": [
    "rebalance_dates <- unique(position_weights$date)\n",
    "rebalance_dates <- rebalance_dates[-length(rebalance_dates)]\n",
    "\n",
    "factor_pos_data <- calc_p_l(weights_and_returns = position_weights_and_returns,\n",
    "                            rebalance_dates  = rebalance_dates,\n",
    "                            initial_capital = initial_k)\n",
    "\n",
    "factor_total_p_l <- sum(factor_pos_data$P_and_L)\n",
    "\n",
    "cummulative_returns_factor_strategy <- factor_pos_data %>% \n",
    "    group_by(end_date) %>%\n",
    "    summarize(P_L = sum(P_and_L)) %>%\n",
    "    mutate(cummulative_P_L = cumsum(P_L),\n",
    "          port_value = initial_k+cummulative_P_L) \n",
    "\n",
    "factor_strat <- cummulative_returns_factor_strategy %>%\n",
    "    select(end_date, port_value) %>%\n",
    "    rename(factor_port_value = port_value) %>%\n",
    "    mutate(factor_return = (factor_port_value/initial_k)-1,\n",
    "          factor_weekly_return = factor_port_value/lag(factor_port_value,1)-1)"
   ]
  },
  {
   "cell_type": "code",
   "execution_count": 13,
   "id": "17b557dc",
   "metadata": {},
   "outputs": [],
   "source": [
    "chg_rebalance_dates <- unique(chg_position_weights$date)\n",
    "chg_rebalance_dates <- chg_rebalance_dates[-length(chg_rebalance_dates)]\n",
    "\n",
    "chg_pos_data <- calc_p_l(weights_and_returns = chg_position_weights_and_returns,\n",
    "                         rebalance_dates  = chg_rebalance_dates,\n",
    "                        initial_capital = initial_k)\n",
    "\n",
    "chg_total_p_l <- sum(chg_pos_data$P_and_L)\n",
    "\n",
    "cummulative_returns_chg_strategy <- chg_pos_data %>% \n",
    "    group_by(end_date) %>%\n",
    "    summarize(P_L = sum(P_and_L)) %>%\n",
    "    mutate(cummulative_P_L = cumsum(P_L),\n",
    "          port_value = initial_k+cummulative_P_L) \n",
    "\n",
    "chg_strat <- cummulative_returns_chg_strategy %>%\n",
    "    select(end_date, port_value) %>%\n",
    "    rename(factor_chg_port_value = port_value) %>%\n",
    "    mutate(factor_chg_return = (factor_chg_port_value/initial_k)-1,\n",
    "          factor_chg_weekly_return = factor_chg_port_value/lag(factor_chg_port_value,1)-1)"
   ]
  },
  {
   "cell_type": "code",
   "execution_count": 14,
   "id": "fc8d4351",
   "metadata": {},
   "outputs": [],
   "source": [
    "sized_rebalance_dates <- unique(sized_position_weights$date)\n",
    "sized_rebalance_dates <- sized_rebalance_dates[-length(sized_rebalance_dates)]\n",
    "\n",
    "sized_pos_data <- calc_p_l(weights_and_returns = sized_position_weights_and_returns,\n",
    "                           rebalance_dates  = sized_rebalance_dates,\n",
    "                           initial_capital = initial_k)\n",
    "\n",
    "sized_total_p_l <- sum(sized_pos_data$P_and_L)\n",
    "\n",
    "cummulative_returns_sized_strategy <- sized_pos_data %>% \n",
    "    group_by(end_date) %>%\n",
    "    summarize(P_L = sum(P_and_L)) %>%\n",
    "    mutate(cummulative_P_L = cumsum(P_L),\n",
    "          port_value = initial_k+cummulative_P_L) \n",
    "\n",
    "sized_strat <- cummulative_returns_sized_strategy %>%\n",
    "    select(end_date, port_value) %>%\n",
    "    rename(factor_sized_port_value = port_value) %>%\n",
    "    mutate(factor_sized_return = (factor_sized_port_value/initial_k)-1,\n",
    "          factor_sized_weekly_return = factor_sized_port_value/lag(factor_sized_port_value,1)-1)"
   ]
  },
  {
   "cell_type": "markdown",
   "id": "86245450",
   "metadata": {},
   "source": [
    "### Compare The 3 strategies"
   ]
  },
  {
   "cell_type": "code",
   "execution_count": 15,
   "id": "212ab104",
   "metadata": {},
   "outputs": [],
   "source": [
    "strategy_returns <- chg_strat %>% \n",
    "    left_join(factor_strat,by='end_date') %>%\n",
    "    left_join(sized_strat, by='end_date')\n",
    "\n",
    "strategy_plot <- strategy_returns %>%\n",
    "    ggplot(aes(x=end_date)) +\n",
    "    geom_line(aes(y=factor_chg_port_value, col='Factor Change')) +\n",
    "    geom_line(aes(y=factor_port_value, col = 'Factor')) +\n",
    "    geom_line(aes(y=factor_sized_port_value, col = 'Sized Factor')) +\n",
    "    labs(title = 'Performance of Factor Strategy and Factor Change Strategy',\n",
    "         x='Date', y='Portfolio Value') +\n",
    "    theme(text = element_text(size=20),\n",
    "         legend.position = 'top',\n",
    "         legend.title = element_blank()) +\n",
    "    scale_y_continuous(labels = scales::dollar)\n"
   ]
  },
  {
   "cell_type": "code",
   "execution_count": 16,
   "id": "a5af6c97",
   "metadata": {},
   "outputs": [],
   "source": [
    "strategies_xts <- xts(strategy_returns[,-1],order.by = strategy_returns$end_date, frequency = 'weekly')\n",
    "\n",
    "factor_stats <- c('Factor',maxDrawdown(strategies_xts$factor_return),\n",
    "                        SortinoRatio(strategies_xts$factor_return)[1,1],\n",
    "                        sum(factor_pos_data$P_and_L)/initial_k,\n",
    "                        sum(factor_pos_data$P_and_L))\n",
    "\n",
    "chg_factor_stats <- c('Factor Change', maxDrawdown(strategies_xts$factor_chg_return),\n",
    "                     SortinoRatio(strategies_xts$factor_chg_return)[1,1],\n",
    "                     sum(chg_pos_data$P_and_L)/initial_k,\n",
    "                     sum(chg_pos_data$P_and_L))\n",
    "\n",
    "sized_factor_stats <- c('Sized Factor',maxDrawdown(strategies_xts$factor_sized_return),\n",
    "                        SortinoRatio(strategies_xts$factor_sized_return)[1,1],\n",
    "                        sum(sized_pos_data$P_and_L)/initial_k,\n",
    "                        sum(sized_pos_data$P_and_L))\n"
   ]
  },
  {
   "cell_type": "code",
   "execution_count": 17,
   "id": "85009baa",
   "metadata": {},
   "outputs": [],
   "source": [
    "\n",
    "stats_table = rbind.data.frame(factor_stats, chg_factor_stats, sized_factor_stats)\n",
    "\n",
    "names(stats_table) <- c('Strategy','Max Drawdown', 'Sortino Ratio', 'Total Return (%)', 'P&L')\n",
    "\n",
    "stats_table <- stats_table %>% \n",
    "    mutate(`Max Drawdown` = scales::percent(as.numeric(`Max Drawdown`),0.01),\n",
    "           `Sortino Ratio` = round(as.numeric(`Sortino Ratio`),2),\n",
    "          `Total Return (%)` = scales::percent(as.numeric(`Total Return (%)`),0.01),\n",
    "          `P&L` = scales::dollar(as.numeric(`P&L`)))"
   ]
  },
  {
   "cell_type": "code",
   "execution_count": 18,
   "id": "bbe3c1b9",
   "metadata": {},
   "outputs": [
    {
     "name": "stderr",
     "output_type": "stream",
     "text": [
      "\u001b[1m\u001b[1mRows: \u001b[1m\u001b[22m\u001b[34m\u001b[34m41229165\u001b[34m\u001b[39m \u001b[1m\u001b[1mColumns: \u001b[1m\u001b[22m\u001b[34m\u001b[34m14\u001b[34m\u001b[39m\n",
      "\n",
      "\u001b[36m--\u001b[39m \u001b[1m\u001b[1mColumn specification\u001b[1m\u001b[22m \u001b[36m--------------------------------------------------------\u001b[39m\n",
      "\u001b[1mDelimiter:\u001b[22m \",\"\n",
      "\u001b[31mchr\u001b[39m   (1): ticker\n",
      "\u001b[32mdbl\u001b[39m  (12): open, high, low, close, volume, dividend, split, adj_open, adj_hi...\n",
      "\u001b[34mdate\u001b[39m  (1): date\n",
      "\n",
      "\n",
      "\u001b[36mi\u001b[39m Use \u001b[30m\u001b[47m\u001b[30m\u001b[47m`spec()`\u001b[47m\u001b[30m\u001b[49m\u001b[39m to retrieve the full column specification for this data.\n",
      "\u001b[36mi\u001b[39m Specify the column types or set \u001b[30m\u001b[47m\u001b[30m\u001b[47m`show_col_types = FALSE`\u001b[47m\u001b[30m\u001b[49m\u001b[39m to quiet this message.\n",
      "\n"
     ]
    }
   ],
   "source": [
    "XLE_and_XLB <- read_csv('QUOTEMEDIA_PRICES.csv') %>% \n",
    "    filter(ticker %in% c('XLE','XLB')) %>%\n",
    "    select(date,ticker, adj_close) %>%\n",
    "    filter((date > as.Date('2013-12-31'))&(date < as.Date('2021-01-29')))\n",
    "\n",
    "XLE <- XLE_and_XLB %>% filter(ticker == 'XLE')\n",
    "\n",
    "XLE_plot <- ggplot(XLE) +\n",
    "    geom_line(aes(x=date, y=adj_close)) +\n",
    "    ggtitle('Energy Sector ETF Performance') +\n",
    "    theme(text = element_text(size=20))"
   ]
  },
  {
   "cell_type": "markdown",
   "id": "2a1d1d5b",
   "metadata": {},
   "source": [
    "### Analysis"
   ]
  },
  {
   "cell_type": "code",
   "execution_count": 19,
   "id": "479abe05",
   "metadata": {
    "scrolled": false
   },
   "outputs": [
    {
     "data": {
      "text/plain": [
       "\n",
       "\n",
       "Table: Strategy Statistics\n",
       "\n",
       "|Strategy      |Max Drawdown | Sortino Ratio|Total Return (%) |P&L      |\n",
       "|:-------------|:------------|-------------:|:----------------|:--------|\n",
       "|Factor        |13.59%       |         13.83|4.01%            |$401,348 |\n",
       "|Factor Change |8.96%        |          4.90|3.60%            |$360,458 |\n",
       "|Sized Factor  |15.11%       |         10.65|4.93%            |$493,381 |"
      ]
     },
     "metadata": {},
     "output_type": "display_data"
    },
    {
     "data": {
      "image/png": "[encoded data removed]",
      "text/plain": [
       "plot without title"
      ]
     },
     "metadata": {
      "image/png": {
       "height": 540,
       "width": 900
      }
     },
     "output_type": "display_data"
    },
    {
     "data": {
      "image/png": "[encoded data removed]",
      "text/plain": [
       "plot without title"
      ]
     },
     "metadata": {
      "image/png": {
       "height": 540,
       "width": 900
      }
     },
     "output_type": "display_data"
    }
   ],
   "source": [
    "fig(15,9)\n",
    "\n",
    "kable(stats_table, caption = 'Strategy Statistics')\n",
    "strategy_plot\n",
    "XLE_plot"
   ]
  },
  {
   "cell_type": "markdown",
   "id": "c4ad6bb7",
   "metadata": {},
   "source": [
    "The time period we looked at was extremely rough for the energy sector, specifically, in 2014 through 2017. The **sized factor** proved to be the best performing strategy even though it proved to have the highest max drawdown. The sizing element seemed to provide a better risk adjusted return even though it increased the portfolios concentration in 20 names to 80%.   \n",
    "\n",
    "Even though a 4.95% over a roughly 7 year period is not fantastic, it is still materially better than the performance of the overall energy sector. I attached a plot of the SPDR XLE ETF for reference. It is interesting to see that the strategy looking at factor changes had a much smaller drawdown in early 2016. "
   ]
  }
 ],
 "metadata": {
  "kernelspec": {
   "display_name": "R",
   "language": "R",
   "name": "ir"
  },
  "language_info": {
   "codemirror_mode": "r",
   "file_extension": ".r",
   "mimetype": "text/x-r-source",
   "name": "R",
   "pygments_lexer": "r",
   "version": "4.1.2"
  }
 },
 "nbformat": 4,
 "nbformat_minor": 5
}
